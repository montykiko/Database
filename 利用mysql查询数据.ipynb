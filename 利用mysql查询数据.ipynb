{
 "cells": [
  {
   "cell_type": "code",
   "execution_count": 5,
   "metadata": {
    "ExecuteTime": {
     "end_time": "2018-03-29T06:27:22.061984Z",
     "start_time": "2018-03-29T06:27:21.991937Z"
    }
   },
   "outputs": [],
   "source": [
    "import pymysql.cursors\n",
    " \n",
    "config = {\n",
    "          'host':'rm-bp1k5li0tqf40u190.mysql.rds.aliyuncs.com',\n",
    "          'port':3306,\n",
    "          'user':'yuyi_admin',\n",
    "          'password':'K*********',\n",
    "#           'db':'employees',\n",
    "#           'charset':'utf8mb4',\n",
    "#           'cursorclass':pymysql.cursors.DictCursor,\n",
    "          }\n",
    "\n",
    "# Connect to the database\n",
    "connection = pymysql.connect(**config)\n",
    "\n",
    "# connection.close()"
   ]
  }
 ],
 "metadata": {
  "kernelspec": {
   "display_name": "Python 3",
   "language": "python",
   "name": "python3"
  },
  "language_info": {
   "codemirror_mode": {
    "name": "ipython",
    "version": 3
   },
   "file_extension": ".py",
   "mimetype": "text/x-python",
   "name": "python",
   "nbconvert_exporter": "python",
   "pygments_lexer": "ipython3",
   "version": "3.6.4"
  },
  "toc": {
   "nav_menu": {},
   "number_sections": true,
   "sideBar": true,
   "skip_h1_title": false,
   "title_cell": "Table of Contents",
   "title_sidebar": "Contents",
   "toc_cell": false,
   "toc_position": {},
   "toc_section_display": true,
   "toc_window_display": false
  }
 },
 "nbformat": 4,
 "nbformat_minor": 2
}
